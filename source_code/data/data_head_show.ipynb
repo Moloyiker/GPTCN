{
 "cells": [
  {
   "cell_type": "markdown",
   "metadata": {},
   "source": [
    "## 导包"
   ]
  },
  {
   "cell_type": "code",
   "execution_count": 1,
   "metadata": {
    "collapsed": true
   },
   "outputs": [],
   "source": [
    "import torch\n",
    "import torch.nn as nn\n",
    "import os\n",
    "import numpy as np\n",
    "import pandas as pd\n",
    "import torch.nn.functional as F\n",
    "from torch.utils.data import DataLoader\n",
    "from torch.utils.data import Dataset\n",
    "from torchvision.transforms import ToTensor, Lambda, Compose"
   ]
  },
  {
   "cell_type": "code",
   "execution_count": 2,
   "metadata": {},
   "outputs": [
    {
     "name": "stdout",
     "output_type": "stream",
     "text": [
      "The Zen of Python, by Tim Peters\n",
      "\n",
      "Beautiful is better than ugly.\n",
      "Explicit is better than implicit.\n",
      "Simple is better than complex.\n",
      "Complex is better than complicated.\n",
      "Flat is better than nested.\n",
      "Sparse is better than dense.\n",
      "Readability counts.\n",
      "Special cases aren't special enough to break the rules.\n",
      "Although practicality beats purity.\n",
      "Errors should never pass silently.\n",
      "Unless explicitly silenced.\n",
      "In the face of ambiguity, refuse the temptation to guess.\n",
      "There should be one-- and preferably only one --obvious way to do it.\n",
      "Although that way may not be obvious at first unless you're Dutch.\n",
      "Now is better than never.\n",
      "Although never is often better than *right* now.\n",
      "If the implementation is hard to explain, it's a bad idea.\n",
      "If the implementation is easy to explain, it may be a good idea.\n",
      "Namespaces are one honking great idea -- let's do more of those!\n"
     ]
    }
   ],
   "source": [
    "from config import Config\n",
    "from kits.models import *\n",
    "from kits.trainer import BaseModelTrainer, parse_data\n",
    "# print(torch.cuda.is_available())\n",
    "# print('1')"
   ]
  },
  {
   "cell_type": "markdown",
   "metadata": {},
   "source": [
    "## 数据预处理"
   ]
  },
  {
   "cell_type": "code",
   "execution_count": 3,
   "metadata": {},
   "outputs": [
    {
     "data": {
      "text/html": [
       "<div>\n",
       "<style scoped>\n",
       "    .dataframe tbody tr th:only-of-type {\n",
       "        vertical-align: middle;\n",
       "    }\n",
       "\n",
       "    .dataframe tbody tr th {\n",
       "        vertical-align: top;\n",
       "    }\n",
       "\n",
       "    .dataframe thead th {\n",
       "        text-align: right;\n",
       "    }\n",
       "</style>\n",
       "<table border=\"1\" class=\"dataframe\">\n",
       "  <thead>\n",
       "    <tr style=\"text-align: right;\">\n",
       "      <th></th>\n",
       "      <th>uid</th>\n",
       "      <th>new_soft_list</th>\n",
       "      <th>new_time_list</th>\n",
       "      <th>new_sep_list</th>\n",
       "      <th>age</th>\n",
       "      <th>gender</th>\n",
       "    </tr>\n",
       "  </thead>\n",
       "  <tbody>\n",
       "    <tr>\n",
       "      <th>0</th>\n",
       "      <td>141879</td>\n",
       "      <td>183, 69, 111, 127, 27, 153, 19, 5, 434, 302, 1...</td>\n",
       "      <td>1917, 1917, 1917, 1917, 1917, 1917, 1917, 1917...</td>\n",
       "      <td>1627, 1627, 1627, 1627, 1627, 1627, 1627, 1627...</td>\n",
       "      <td>2</td>\n",
       "      <td>0</td>\n",
       "    </tr>\n",
       "    <tr>\n",
       "      <th>1</th>\n",
       "      <td>98074</td>\n",
       "      <td>471, 763, 8, 2056, 62, 15, 417, 273, 13, 255, ...</td>\n",
       "      <td>2245, 2245, 2245, 2245, 2245, 2245, 2245, 2245...</td>\n",
       "      <td>1286, 1286, 1286, 1286, 1286, 1286, 1286, 1286...</td>\n",
       "      <td>1</td>\n",
       "      <td>1</td>\n",
       "    </tr>\n",
       "    <tr>\n",
       "      <th>2</th>\n",
       "      <td>102602</td>\n",
       "      <td>6, 60, 15, 5, 56, 9, 170, 1, 47, 2045, 299, 65...</td>\n",
       "      <td>2436, 2436, 2436, 2436, 2436, 2436, 2436, 2436...</td>\n",
       "      <td>1098, 1098, 1098, 1098, 1098, 1098, 1098, 1098...</td>\n",
       "      <td>2</td>\n",
       "      <td>0</td>\n",
       "    </tr>\n",
       "    <tr>\n",
       "      <th>3</th>\n",
       "      <td>38051</td>\n",
       "      <td>70, 16, 231, 93, 15, 1395, 47, 5, 125, 30, 40,...</td>\n",
       "      <td>2307, 2307, 2307, 2307, 2307, 2307, 2307, 2307...</td>\n",
       "      <td>1230, 1230, 1230, 1230, 1230, 1230, 1230, 1230...</td>\n",
       "      <td>3</td>\n",
       "      <td>0</td>\n",
       "    </tr>\n",
       "    <tr>\n",
       "      <th>4</th>\n",
       "      <td>40634</td>\n",
       "      <td>0, 17, 98, 5, 27, 186, 1104, 13628, 49, 45, 43...</td>\n",
       "      <td>1697, 1697, 1697, 1697, 1697, 1697, 1697, 1697...</td>\n",
       "      <td>1838, 1838, 1838, 1838, 1838, 1838, 1838, 1838...</td>\n",
       "      <td>1</td>\n",
       "      <td>1</td>\n",
       "    </tr>\n",
       "  </tbody>\n",
       "</table>\n",
       "</div>"
      ],
      "text/plain": [
       "      uid                                      new_soft_list  \\\n",
       "0  141879  183, 69, 111, 127, 27, 153, 19, 5, 434, 302, 1...   \n",
       "1   98074  471, 763, 8, 2056, 62, 15, 417, 273, 13, 255, ...   \n",
       "2  102602  6, 60, 15, 5, 56, 9, 170, 1, 47, 2045, 299, 65...   \n",
       "3   38051  70, 16, 231, 93, 15, 1395, 47, 5, 125, 30, 40,...   \n",
       "4   40634  0, 17, 98, 5, 27, 186, 1104, 13628, 49, 45, 43...   \n",
       "\n",
       "                                       new_time_list  \\\n",
       "0  1917, 1917, 1917, 1917, 1917, 1917, 1917, 1917...   \n",
       "1  2245, 2245, 2245, 2245, 2245, 2245, 2245, 2245...   \n",
       "2  2436, 2436, 2436, 2436, 2436, 2436, 2436, 2436...   \n",
       "3  2307, 2307, 2307, 2307, 2307, 2307, 2307, 2307...   \n",
       "4  1697, 1697, 1697, 1697, 1697, 1697, 1697, 1697...   \n",
       "\n",
       "                                        new_sep_list  age  gender  \n",
       "0  1627, 1627, 1627, 1627, 1627, 1627, 1627, 1627...    2       0  \n",
       "1  1286, 1286, 1286, 1286, 1286, 1286, 1286, 1286...    1       1  \n",
       "2  1098, 1098, 1098, 1098, 1098, 1098, 1098, 1098...    2       0  \n",
       "3  1230, 1230, 1230, 1230, 1230, 1230, 1230, 1230...    3       0  \n",
       "4  1838, 1838, 1838, 1838, 1838, 1838, 1838, 1838...    1       1  "
      ]
     },
     "execution_count": 3,
     "metadata": {},
     "output_type": "execute_result"
    }
   ],
   "source": [
    "import pandas as pd\n",
    "# 文件路径\n",
    "data_path = '/home/data/sunyingjie/zeng_appdata/'\n",
    "mini_data_path = '/home/data/sunyingjie/zeng_appdata/mini_data/'\n",
    "# 文件名\n",
    "train_sample = 'train_sample.csv'\n",
    "valid_sample = 'valid_sample.csv'\n",
    "test_sample = 'test_sample.csv'\n",
    "\n",
    "train_data = pd.read_csv(data_path + train_sample, encoding='utf-8-sig', sep='|')\n",
    "valid_data = pd.read_csv(data_path + valid_sample, encoding='utf-8-sig', sep='|')\n",
    "test_data = pd.read_csv(data_path + test_sample, encoding='utf-8-sig', sep='|')\n",
    "train_data.head()"
   ]
  },
  {
   "cell_type": "code",
   "execution_count": 4,
   "metadata": {},
   "outputs": [],
   "source": [
    "num_row = train_data.shape[0]/10"
   ]
  },
  {
   "cell_type": "code",
   "execution_count": 5,
   "metadata": {},
   "outputs": [],
   "source": [
    "train_data = pd.read_csv(data_path + train_sample, encoding='utf-8-sig', sep='|', nrows = train_data.shape[0]/100)\n",
    "valid_data = pd.read_csv(data_path + valid_sample, encoding='utf-8-sig', sep='|', nrows = valid_data.shape[0]/100)\n",
    "test_data  = pd.read_csv(data_path + test_sample, encoding='utf-8-sig', sep='|', nrows = test_data.shape[0]/100)"
   ]
  },
  {
   "cell_type": "code",
   "execution_count": 6,
   "metadata": {},
   "outputs": [
    {
     "data": {
      "text/plain": [
       "(800, 6)"
      ]
     },
     "execution_count": 6,
     "metadata": {},
     "output_type": "execute_result"
    }
   ],
   "source": [
    "train_data.shape"
   ]
  },
  {
   "cell_type": "code",
   "execution_count": 7,
   "metadata": {},
   "outputs": [],
   "source": [
    "train_data.to_csv(mini_data_path + 'mini_train_data.csv', encoding='utf-8-sig', sep='|', index=False)\n",
    "valid_data.to_csv(mini_data_path + 'mini_valid_data.csv', encoding='utf-8-sig', sep='|', index=False)\n",
    "test_data.to_csv(mini_data_path + 'mini_test_data.csv', encoding='utf-8-sig', sep='|', index=False)"
   ]
  },
  {
   "cell_type": "code",
   "execution_count": 8,
   "metadata": {},
   "outputs": [
    {
     "data": {
      "text/html": [
       "<div>\n",
       "<style scoped>\n",
       "    .dataframe tbody tr th:only-of-type {\n",
       "        vertical-align: middle;\n",
       "    }\n",
       "\n",
       "    .dataframe tbody tr th {\n",
       "        vertical-align: top;\n",
       "    }\n",
       "\n",
       "    .dataframe thead th {\n",
       "        text-align: right;\n",
       "    }\n",
       "</style>\n",
       "<table border=\"1\" class=\"dataframe\">\n",
       "  <thead>\n",
       "    <tr style=\"text-align: right;\">\n",
       "      <th></th>\n",
       "      <th>uid</th>\n",
       "      <th>new_soft_list</th>\n",
       "      <th>new_time_list</th>\n",
       "      <th>new_sep_list</th>\n",
       "      <th>age</th>\n",
       "      <th>gender</th>\n",
       "    </tr>\n",
       "  </thead>\n",
       "  <tbody>\n",
       "    <tr>\n",
       "      <th>0</th>\n",
       "      <td>141879</td>\n",
       "      <td>183, 69, 111, 127, 27, 153, 19, 5, 434, 302, 1...</td>\n",
       "      <td>1917, 1917, 1917, 1917, 1917, 1917, 1917, 1917...</td>\n",
       "      <td>1627, 1627, 1627, 1627, 1627, 1627, 1627, 1627...</td>\n",
       "      <td>2</td>\n",
       "      <td>0</td>\n",
       "    </tr>\n",
       "    <tr>\n",
       "      <th>1</th>\n",
       "      <td>98074</td>\n",
       "      <td>471, 763, 8, 2056, 62, 15, 417, 273, 13, 255, ...</td>\n",
       "      <td>2245, 2245, 2245, 2245, 2245, 2245, 2245, 2245...</td>\n",
       "      <td>1286, 1286, 1286, 1286, 1286, 1286, 1286, 1286...</td>\n",
       "      <td>1</td>\n",
       "      <td>1</td>\n",
       "    </tr>\n",
       "    <tr>\n",
       "      <th>2</th>\n",
       "      <td>102602</td>\n",
       "      <td>6, 60, 15, 5, 56, 9, 170, 1, 47, 2045, 299, 65...</td>\n",
       "      <td>2436, 2436, 2436, 2436, 2436, 2436, 2436, 2436...</td>\n",
       "      <td>1098, 1098, 1098, 1098, 1098, 1098, 1098, 1098...</td>\n",
       "      <td>2</td>\n",
       "      <td>0</td>\n",
       "    </tr>\n",
       "    <tr>\n",
       "      <th>3</th>\n",
       "      <td>38051</td>\n",
       "      <td>70, 16, 231, 93, 15, 1395, 47, 5, 125, 30, 40,...</td>\n",
       "      <td>2307, 2307, 2307, 2307, 2307, 2307, 2307, 2307...</td>\n",
       "      <td>1230, 1230, 1230, 1230, 1230, 1230, 1230, 1230...</td>\n",
       "      <td>3</td>\n",
       "      <td>0</td>\n",
       "    </tr>\n",
       "    <tr>\n",
       "      <th>4</th>\n",
       "      <td>40634</td>\n",
       "      <td>0, 17, 98, 5, 27, 186, 1104, 13628, 49, 45, 43...</td>\n",
       "      <td>1697, 1697, 1697, 1697, 1697, 1697, 1697, 1697...</td>\n",
       "      <td>1838, 1838, 1838, 1838, 1838, 1838, 1838, 1838...</td>\n",
       "      <td>1</td>\n",
       "      <td>1</td>\n",
       "    </tr>\n",
       "  </tbody>\n",
       "</table>\n",
       "</div>"
      ],
      "text/plain": [
       "      uid                                      new_soft_list  \\\n",
       "0  141879  183, 69, 111, 127, 27, 153, 19, 5, 434, 302, 1...   \n",
       "1   98074  471, 763, 8, 2056, 62, 15, 417, 273, 13, 255, ...   \n",
       "2  102602  6, 60, 15, 5, 56, 9, 170, 1, 47, 2045, 299, 65...   \n",
       "3   38051  70, 16, 231, 93, 15, 1395, 47, 5, 125, 30, 40,...   \n",
       "4   40634  0, 17, 98, 5, 27, 186, 1104, 13628, 49, 45, 43...   \n",
       "\n",
       "                                       new_time_list  \\\n",
       "0  1917, 1917, 1917, 1917, 1917, 1917, 1917, 1917...   \n",
       "1  2245, 2245, 2245, 2245, 2245, 2245, 2245, 2245...   \n",
       "2  2436, 2436, 2436, 2436, 2436, 2436, 2436, 2436...   \n",
       "3  2307, 2307, 2307, 2307, 2307, 2307, 2307, 2307...   \n",
       "4  1697, 1697, 1697, 1697, 1697, 1697, 1697, 1697...   \n",
       "\n",
       "                                        new_sep_list  age  gender  \n",
       "0  1627, 1627, 1627, 1627, 1627, 1627, 1627, 1627...    2       0  \n",
       "1  1286, 1286, 1286, 1286, 1286, 1286, 1286, 1286...    1       1  \n",
       "2  1098, 1098, 1098, 1098, 1098, 1098, 1098, 1098...    2       0  \n",
       "3  1230, 1230, 1230, 1230, 1230, 1230, 1230, 1230...    3       0  \n",
       "4  1838, 1838, 1838, 1838, 1838, 1838, 1838, 1838...    1       1  "
      ]
     },
     "execution_count": 8,
     "metadata": {},
     "output_type": "execute_result"
    }
   ],
   "source": [
    "train_data = pd.read_csv(mini_data_path + 'mini_train_data.csv', encoding='utf-8-sig', sep='|')\n",
    "train_data.head()"
   ]
  },
  {
   "cell_type": "code",
   "execution_count": 9,
   "metadata": {},
   "outputs": [
    {
     "data": {
      "text/plain": [
       "(800, 6)"
      ]
     },
     "execution_count": 9,
     "metadata": {},
     "output_type": "execute_result"
    }
   ],
   "source": [
    "train_data.shape"
   ]
  },
  {
   "cell_type": "code",
   "execution_count": 10,
   "metadata": {},
   "outputs": [
    {
     "data": {
      "text/plain": [
       "uid               int64\n",
       "new_soft_list    object\n",
       "new_time_list    object\n",
       "new_sep_list     object\n",
       "age               int64\n",
       "gender            int64\n",
       "dtype: object"
      ]
     },
     "execution_count": 10,
     "metadata": {},
     "output_type": "execute_result"
    }
   ],
   "source": [
    "train_data.dtypes"
   ]
  }
 ],
 "metadata": {
  "kernelspec": {
   "display_name": "pytorch_under11.4",
   "language": "python",
   "name": "python3"
  },
  "language_info": {
   "codemirror_mode": {
    "name": "ipython",
    "version": 3
   },
   "file_extension": ".py",
   "mimetype": "text/x-python",
   "name": "python",
   "nbconvert_exporter": "python",
   "pygments_lexer": "ipython3",
   "version": "3.8.15"
  },
  "vscode": {
   "interpreter": {
    "hash": "53f6840ce1997407c274b395b2802418860c3b1b08f1fe0c28b6bd59e6a3f72e"
   }
  }
 },
 "nbformat": 4,
 "nbformat_minor": 0
}
